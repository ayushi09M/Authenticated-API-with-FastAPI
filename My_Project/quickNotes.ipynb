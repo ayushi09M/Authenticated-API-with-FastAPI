{
 "cells": [
  {
   "cell_type": "markdown",
   "id": "f0a1f5f5",
   "metadata": {},
   "source": [
    "There is code repetition between pydantic and sqlalchemy models and as the number of models increase it only gets worse as it causes a lot of similarly named objects.\n",
    "\n",
    "However we must also understand that both of them serve different purpose and are hence required.\n",
    "\n",
    "Pydantic schemas define the properties and are used for validation, documentation and serialization. \n",
    "\n",
    "Sqlalchemy models on the other hand are used so that we can access ORM."
   ]
  },
  {
   "cell_type": "markdown",
   "id": "b37d4de2",
   "metadata": {},
   "source": [
    "Reponse Model: Show only necessary fields to user\n"
   ]
  },
  {
   "cell_type": "markdown",
   "id": "9407e168",
   "metadata": {},
   "source": [
    "\n",
    "HTTP Status Code: \n",
    "from fastapi import status\n",
    "\n",
    "1XX : Informational  \n",
    "2XX : Sucess  \n",
    "3XX : Redirectional  \n",
    "4XX : Client Error  \n",
    "5XX : Server Error   "
   ]
  },
  {
   "cell_type": "code",
   "execution_count": null,
   "id": "ab1d81f8",
   "metadata": {
    "vscode": {
     "languageId": "plaintext"
    }
   },
   "outputs": [],
   "source": []
  }
 ],
 "metadata": {
  "language_info": {
   "name": "python"
  }
 },
 "nbformat": 4,
 "nbformat_minor": 5
}
