{
 "cells": [
  {
   "cell_type": "markdown",
   "id": "f0a1f5f5",
   "metadata": {},
   "source": [
    "There is code repetition between pydantic and sqlalchemy models and as the number of models increase it only gets worse as it causes a lot of similarly named objects.\n",
    "\n",
    "However we must also understand that both of them serve different purpose and are hence required.\n",
    "\n",
    "Pydantic schemas define the properties and are used for validation, documentation and serialization. \n",
    "\n",
    "Sqlalchemy models on the other hand are used so that we can access ORM."
   ]
  }
 ],
 "metadata": {
  "language_info": {
   "name": "python"
  }
 },
 "nbformat": 4,
 "nbformat_minor": 5
}
