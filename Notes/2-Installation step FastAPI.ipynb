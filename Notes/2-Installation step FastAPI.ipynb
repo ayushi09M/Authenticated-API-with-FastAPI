{
 "cells": [
  {
   "cell_type": "markdown",
   "id": "4cf9f4cb",
   "metadata": {},
   "source": [
    "##### Prerequisites\n",
    "\n",
    "1. Before you install FastAPI: Make sure Python 3.7+ is installed. (FastAPI requires Python 3.7 or newer)\n",
    " - python --version\n",
    "\n",
    "2. Also, ensure pip (Python’s package manager) is available.\n",
    " Check pip with:\n",
    " - pip --version\n"
   ]
  },
  {
   "cell_type": "markdown",
   "id": "b4b745cd",
   "metadata": {},
   "source": [
    "----\n",
    "##### 🛠️ Create a Virtual Environment (Recommended)\n",
    "\n",
    "It’s good practice to install FastAPI inside a virtual environment so that project dependencies don’t clash.\n",
    "\n",
    "*** Navigate to your project folder ***\n",
    "cd C:\\Users\\YourName\\projects\\fastapi-demo\n",
    "\n",
    "1.  Create virtual environment\n",
    "python -m venv venv\n",
    "\n",
    "2.  Activate it\n",
    "\\Authenticated-API-with-FastAPI\\env\\Scripts>activate\n",
    "\n",
    "3. After activation, your terminal prompt will look like:\n",
    "(env) D:\\Ayushi\\Python\\Authenticated-API-with-FastAPI\\env\\Scripts>cd .. \n",
    "\n",
    "\n",
    "\n"
   ]
  },
  {
   "cell_type": "markdown",
   "id": "a6ff4fb1",
   "metadata": {},
   "source": [
    "---\n",
    "##### 3. 📦 Install FastAPI\n",
    "\n",
    "pip install fastapi\n",
    "---"
   ]
  },
  {
   "cell_type": "markdown",
   "id": "5119a69a",
   "metadata": {},
   "source": [
    "##### 4. ⚡ Install Uvicorn (Server to Run FastAPI)\n",
    "\n",
    "FastAPI itself does not run the server. You need Uvicorn, which is an ASGI server:\n",
    "\n",
    "pip install uvicorn[standard]\n",
    "\n",
    "---"
   ]
  },
  {
   "cell_type": "markdown",
   "id": "3aa8a89d",
   "metadata": {},
   "source": [
    "##### 5. 🎉 Verify Installation\n",
    "\n",
    "Create a file main.py (we won’t go into code yet, just setup):\n",
    "Then run:\n",
    "\n",
    "uvicorn main:app --reload\n",
    "\n",
    "\n",
    "If everything is installed correctly, you’ll see something like:\n",
    "\n",
    "Uvicorn running on http://127.0.0.1:8000\n",
    "\n",
    "---"
   ]
  },
  {
   "cell_type": "markdown",
   "id": "6ad55b10",
   "metadata": {},
   "source": [
    "##### 6. 📖 Check API Docs\n",
    "\n",
    "Open your browser and visit:\n",
    "\n",
    "Swagger UI → http://127.0.0.1:8000/docs\n",
    "\n",
    "ReDoc → http://127.0.0.1:8000/redoc\n",
    "\n",
    "---"
   ]
  }
 ],
 "metadata": {
  "language_info": {
   "name": "python"
  }
 },
 "nbformat": 4,
 "nbformat_minor": 5
}
