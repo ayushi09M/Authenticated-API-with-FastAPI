{
 "cells": [
  {
   "cell_type": "markdown",
   "id": "2bc35bff",
   "metadata": {},
   "source": [
    "A POST API is used to send data to the server, usually to create new resources.\n",
    "\n",
    "Unlike GET (which retrieves data), POST is meant to submit data.\n",
    "\n",
    "The data is usually sent in JSON format in the request body."
   ]
  },
  {
   "cell_type": "markdown",
   "id": "c0e3922d",
   "metadata": {},
   "source": [
    "Chunk 2: Request Body and Pydantic Model\n",
    "\n",
    "FastAPI uses Pydantic models to validate incoming data automatically.\n",
    "\n",
    "1. What is a Pydantic Model?\n",
    "\n",
    " - A Pydantic model is just a Python class that tells FastAPI what kind of data you expect.\n",
    "\n",
    " - Think of it like a form: it defines the fields, their types, and optional/default values.\n",
    "\n",
    " - A Pydantic model is a Python class that inherits from BaseModel.\n",
    "\n",
    " - It is used to define the shape and type of data your API expects.\n",
    "\n",
    " - Think of it as a data blueprint for requests and responses."
   ]
  },
  {
   "cell_type": "code",
   "execution_count": null,
   "id": "eaaff6e9",
   "metadata": {},
   "outputs": [],
   "source": [
    "from fastapi import FastAPI\n",
    "from pydantic import BaseModel\n",
    "\n",
    "app = FastAPI()\n",
    "\n",
    "# Define a model for the request body\n",
    "class Item(BaseModel):\n",
    "    name: str\n",
    "    price: float\n",
    "    in_stock: bool = True  # optional with default\n",
    "\n",
    "# POST API\n",
    "@app.post(\"/items/\")\n",
    "def create_item(item: Item):\n",
    "    return {\"message\": \"Item created successfully\", \"item\": item}\n"
   ]
  },
  {
   "cell_type": "markdown",
   "id": "0f6819a2",
   "metadata": {},
   "source": [
    "| Feature             | Explanation                                             |\n",
    "| ------------------- | ------------------------------------------------------- |\n",
    "| **Request body**    | Sent as JSON in POST request                            |\n",
    "| **Validation**      | Pydantic automatically checks types and required fields |\n",
    "| **Optional fields** | Can have default values (`in_stock: bool = True`)       |\n",
    "| **Response**        | Returned as JSON automatically by FastAPI               |\n"
   ]
  }
 ],
 "metadata": {
  "language_info": {
   "name": "python"
  }
 },
 "nbformat": 4,
 "nbformat_minor": 5
}
